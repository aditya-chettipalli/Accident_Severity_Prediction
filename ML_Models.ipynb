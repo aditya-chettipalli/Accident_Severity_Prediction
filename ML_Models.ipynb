{
  "cells": [
    {
      "cell_type": "code",
      "execution_count": null,
      "metadata": {
        "id": "Scj70yaoOfnl"
      },
      "outputs": [],
      "source": [
        "import os\n",
        "os.environ[\"JAVA_HOME\"] = \"/usr/lib/jvm/java-8-openjdk-amd64\"\n",
        "os.environ[\"SPARK_HOME\"] = \"spark-3.2.0-bin-hadoop3.2\""
      ]
    },
    {
      "cell_type": "code",
      "execution_count": null,
      "metadata": {
        "id": "gB6uIW2fOhQA"
      },
      "outputs": [],
      "source": [
        "!apt-get install openjdk-8-jdk-headless -qq > /dev/null\n",
        "!wget -q https://archive.apache.org/dist/spark/spark-3.2.0/spark-3.2.0-bin-hadoop3.2.tgz\n",
        "!tar xf spark-3.2.0-bin-hadoop3.2.tgz\n",
        "!pip install -q findspark"
      ]
    },
    {
      "cell_type": "code",
      "execution_count": null,
      "metadata": {
        "id": "kpjEbapsOlN8"
      },
      "outputs": [],
      "source": [
        "import findspark\n",
        "findspark.init()"
      ]
    },
    {
      "cell_type": "code",
      "execution_count": null,
      "metadata": {
        "colab": {
          "base_uri": "https://localhost:8080/",
          "height": 196
        },
        "id": "4bad4OBKOnXn",
        "outputId": "10de2709-6232-4614-b43c-2a799550551e"
      },
      "outputs": [
        {
          "output_type": "execute_result",
          "data": {
            "text/plain": [
              "<SparkContext master=local[*] appName=pyspark-shell>"
            ],
            "text/html": [
              "\n",
              "        <div>\n",
              "            <p><b>SparkContext</b></p>\n",
              "\n",
              "            <p><a href=\"http://90185dc82b82:4040\">Spark UI</a></p>\n",
              "\n",
              "            <dl>\n",
              "              <dt>Version</dt>\n",
              "                <dd><code>v3.2.0</code></dd>\n",
              "              <dt>Master</dt>\n",
              "                <dd><code>local[*]</code></dd>\n",
              "              <dt>AppName</dt>\n",
              "                <dd><code>pyspark-shell</code></dd>\n",
              "            </dl>\n",
              "        </div>\n",
              "        "
            ]
          },
          "metadata": {},
          "execution_count": 4
        }
      ],
      "source": [
        "from pyspark.sql import SparkSession\n",
        "spark = SparkSession.builder.master(\"local[*]\").getOrCreate()\n",
        "sc = spark.sparkContext\n",
        "sc"
      ]
    },
    {
      "cell_type": "markdown",
      "source": [
        "Reading of data from Google Drive"
      ],
      "metadata": {
        "id": "3YLQzYrMW7Bf"
      }
    },
    {
      "cell_type": "code",
      "execution_count": null,
      "metadata": {
        "id": "FdInQGdWOunz"
      },
      "outputs": [],
      "source": [
        "path = '/content/drive/MyDrive/H516/data7l.csv'"
      ]
    },
    {
      "cell_type": "code",
      "execution_count": null,
      "metadata": {
        "id": "0hx_GdZJP43m"
      },
      "outputs": [],
      "source": [
        "data= spark.read.csv(path, header=True, inferSchema=True)"
      ]
    },
    {
      "cell_type": "code",
      "source": [
        "data.show(10)"
      ],
      "metadata": {
        "colab": {
          "base_uri": "https://localhost:8080/"
        },
        "id": "Y88iOOHuhYZq",
        "outputId": "18bddfc8-cec4-4309-8854-a071386c8d43"
      },
      "execution_count": null,
      "outputs": [
        {
          "output_type": "stream",
          "name": "stdout",
          "text": [
            "+---------+-------+--------+--------------+--------------+---------+----------+----------+------------+------------+--------------------+------------------+--------------+---------+-----+----------+-------+-----------+------------+-----------------+--------------+-------------+-----------+------------+--------------+--------------+---------------+-----------------+-----------------+-------+-------+--------+--------+--------+-------+-------+----------+-------+-------+---------------+--------------+------------+--------------+--------------+-----------------+---------------------+\n",
            "|       ID| Source|Severity|    Start_Time|      End_Time|Start_Lat| Start_Lng|   End_Lat|     End_Lng|Distance(mi)|         Description|            Street|          City|   County|State|   Zipcode|Country|   Timezone|Airport_Code|Weather_Timestamp|Temperature(F)|Wind_Chill(F)|Humidity(%)|Pressure(in)|Visibility(mi)|Wind_Direction|Wind_Speed(mph)|Precipitation(in)|Weather_Condition|Amenity|   Bump|Crossing|Give_Way|Junction|No_Exit|Railway|Roundabout|Station|   Stop|Traffic_Calming|Traffic_Signal|Turning_Loop|Sunrise_Sunset|Civil_Twilight|Nautical_Twilight|Astronomical_Twilight|\n",
            "+---------+-------+--------+--------------+--------------+---------+----------+----------+------------+------------+--------------------+------------------+--------------+---------+-----+----------+-------+-----------+------------+-----------------+--------------+-------------+-----------+------------+--------------+--------------+---------------+-----------------+-----------------+-------+-------+--------+--------+--------+-------+-------+----------+-------+-------+---------------+--------------+------------+--------------+--------------+-----------------+---------------------+\n",
            "|A-7006903|Source1|       3|5/1/2020 10:46|5/1/2020 11:46| 39.84495|-104.98484|39.84495.1|-104.98484.1|         0.0|At US-36/Exit 217...|           US-87 S|        Denver|    Adams|   CO|     80229|     US|US/Mountain|        KBJC|   5/1/2020 10:45|          73.0|       73.0.1|         29|       24.37|          10.0|            NE|            8.0|            0.0.1|    Partly Cloudy|  false|False.1| False.2| False.3| False.4|False.5|False.6|   False.7|False.8|False.9|       False.10|      False.11|    False.12|           Day|         Day.1|            Day.2|                Day.3|\n",
            "|A-7006904|Source1|       3|5/1/2020 10:46|5/1/2020 11:46| 39.84495|-104.98484|  39.84473|  -104.98479|       0.015|At US-36/Exit 217...|           US-87 S|        Denver|    Adams|   CO|     80229|     US|US/Mountain|        KBJC|   5/1/2020 10:45|          73.0|           73|         29|       24.37|          10.0|            NE|            8.0|                0|    Partly Cloudy|  false|  FALSE|   FALSE|   FALSE|   FALSE|  FALSE|  FALSE|     FALSE|  FALSE|  FALSE|          FALSE|         FALSE|       FALSE|           Day|           Day|              Day|                  Day|\n",
            "|A-7006905|Source1|       2|5/1/2020 11:11|5/1/2020 11:41| 42.67713|-114.50679|  42.67713|  -114.50679|         0.0|At ID-79/Exit 168...|            I-84 W|        Jerome|   Jerome|   ID|     83338|     US|US/Mountain|        KJER|   5/1/2020 10:53|          57.0|           57|         51|       25.99|          10.0|             W|           13.0|                0|             Fair|  false|  FALSE|   FALSE|   FALSE|   FALSE|  FALSE|  FALSE|     FALSE|  FALSE|  FALSE|          FALSE|         FALSE|       FALSE|           Day|           Day|              Day|                  Day|\n",
            "|A-7006906|Source1|       2|5/1/2020 11:23|5/1/2020 12:30| 40.63134|-111.86599|  40.63134|  -111.86599|         0.0|At E 6600 S/E Win...|           S 900 E|Salt Lake City|Salt Lake|   UT|84121-2443|     US|US/Mountain|        KU42|   5/1/2020 10:54|          59.0|           59|         69|       25.76|          10.0|            NW|           12.0|                0|       Light Rain|  false|  FALSE|    TRUE|   FALSE|   FALSE|  FALSE|  FALSE|     FALSE|  FALSE|  FALSE|          FALSE|          TRUE|       FALSE|           Day|           Day|              Day|                  Day|\n",
            "|A-7006907|Source1|       2|5/1/2020 11:23|5/1/2020 12:30| 40.63134|-111.86599|  40.63134|  -111.86599|         0.0|At Fort Union Blv...|           S 900 E|Salt Lake City|Salt Lake|   UT|84121-2443|     US|US/Mountain|        KU42|   5/1/2020 10:54|          59.0|           59|         69|       25.76|          10.0|            NW|           12.0|                0|       Light Rain|  false|  FALSE|    TRUE|   FALSE|   FALSE|  FALSE|  FALSE|     FALSE|  FALSE|  FALSE|          FALSE|          TRUE|       FALSE|           Day|           Day|              Day|                  Day|\n",
            "|A-7006908|Source1|       2|5/1/2020 12:45|5/1/2020 13:00| 40.63006|-111.86599|  40.63006|  -111.86599|         0.0|At Union Park Ave...|           I-215 E|       Midvale|Salt Lake|   UT|     84047|     US|US/Mountain|        KU42|   5/1/2020 12:54|          63.0|           63|         46|       25.74|          10.0|           NNW|            9.0|                0|    Mostly Cloudy|  false|  FALSE|   FALSE|   FALSE|   FALSE|  FALSE|  FALSE|     FALSE|  FALSE|  FALSE|          FALSE|         FALSE|       FALSE|           Day|           Day|              Day|                  Day|\n",
            "|A-7006909|Source1|       1|5/1/2020 11:58|5/1/2020 13:03| 39.55117|-105.00808|  39.55117|  -105.00808|         0.0|At CO-470 - Accid...|       Lucent Blvd|     Littleton|  Douglas|   CO|     80129|     US|US/Mountain|        KAPA|   5/1/2020 11:53|          80.0|           80|         17|       24.14|          10.0|             N|            8.0|                0|    Partly Cloudy|  false|  FALSE|    TRUE|   FALSE|   FALSE|  FALSE|  FALSE|     FALSE|  FALSE|  FALSE|          FALSE|          TRUE|       FALSE|           Day|           Day|              Day|                  Day|\n",
            "|A-7006910|Source1|       2|5/1/2020 12:04|5/1/2020 15:00| 40.60956| -111.8893|  40.60956|   -111.8893|         0.0|At UT-71/S 700 E ...|          E 7800 S|       Midvale|Salt Lake|   UT|84047-2610|     US|US/Mountain|        KU42|   5/1/2020 11:54|          59.0|           59|         60|       25.76|          10.0|           NNW|           12.0|                0|    Mostly Cloudy|  false|  FALSE|   FALSE|   FALSE|   FALSE|  FALSE|  FALSE|     FALSE|  FALSE|  FALSE|          FALSE|         FALSE|       FALSE|           Day|           Day|              Day|                  Day|\n",
            "|A-7006911|Source1|       2|5/1/2020 12:04|5/1/2020 15:00| 40.60956| -111.8893|  40.60956|   -111.8893|         0.0|At US-89/State St...|          E 7800 S|       Midvale|Salt Lake|   UT|84047-2610|     US|US/Mountain|        KU42|   5/1/2020 11:54|          59.0|           59|         60|       25.76|          10.0|           NNW|           12.0|                0|    Mostly Cloudy|  false|  FALSE|   FALSE|   FALSE|   FALSE|  FALSE|  FALSE|     FALSE|  FALSE|  FALSE|          FALSE|         FALSE|       FALSE|           Day|           Day|              Day|                  Day|\n",
            "|A-7006912|Source1|       2|5/1/2020 12:41|5/1/2020 13:26| 39.69648|-104.86599|  39.69648|  -104.86599|         0.0|At E Iliff Ave - ...| E Mississippi Ave|        Aurora| Arapahoe|   CO|     80012|     US|US/Mountain|        KBKF|   5/1/2020 12:58|          80.0|           80|         22|       24.33|          10.0|             E|            8.0|                0|    Mostly Cloudy|  false|  FALSE|    TRUE|   FALSE|   FALSE|  FALSE|  FALSE|     FALSE|  FALSE|  FALSE|          FALSE|          TRUE|       FALSE|           Day|           Day|              Day|                  Day|\n",
            "+---------+-------+--------+--------------+--------------+---------+----------+----------+------------+------------+--------------------+------------------+--------------+---------+-----+----------+-------+-----------+------------+-----------------+--------------+-------------+-----------+------------+--------------+--------------+---------------+-----------------+-----------------+-------+-------+--------+--------+--------+-------+-------+----------+-------+-------+---------------+--------------+------------+--------------+--------------+-----------------+---------------------+\n",
            "only showing top 10 rows\n",
            "\n"
          ]
        }
      ]
    },
    {
      "cell_type": "markdown",
      "source": [
        "Dropping the unnecessary columns"
      ],
      "metadata": {
        "id": "7Cd3SSIyW_3B"
      }
    },
    {
      "cell_type": "code",
      "source": [
        "columns_to_drop = ['ID', 'Country', 'Source','Timezone','Airport_Code', 'End_Lat', 'End_Lng',  'Traffic_Calming', 'Traffic_Signal','Turning_Loop','Sunrise_Sunset','Civil_Twilight','Nautical_Twilight','Astronomical_Twilight']\n",
        "data = data.drop(*columns_to_drop)"
      ],
      "metadata": {
        "id": "xRnXQCKt-Tb3"
      },
      "execution_count": null,
      "outputs": []
    },
    {
      "cell_type": "code",
      "source": [
        "data.show(10)"
      ],
      "metadata": {
        "colab": {
          "base_uri": "https://localhost:8080/"
        },
        "id": "igR5KYUz-ySW",
        "outputId": "4c2d34c4-1cda-4ebb-9dd2-cec128060803"
      },
      "execution_count": null,
      "outputs": [
        {
          "output_type": "stream",
          "name": "stdout",
          "text": [
            "+--------+--------------+--------------+---------+----------+------------+--------------------+------------------+--------------+---------+-----+----------+-----------------+--------------+-------------+-----------+------------+--------------+--------------+---------------+-----------------+-----------------+-------+-------+--------+--------+--------+-------+-------+----------+-------+-------+\n",
            "|Severity|    Start_Time|      End_Time|Start_Lat| Start_Lng|Distance(mi)|         Description|            Street|          City|   County|State|   Zipcode|Weather_Timestamp|Temperature(F)|Wind_Chill(F)|Humidity(%)|Pressure(in)|Visibility(mi)|Wind_Direction|Wind_Speed(mph)|Precipitation(in)|Weather_Condition|Amenity|   Bump|Crossing|Give_Way|Junction|No_Exit|Railway|Roundabout|Station|   Stop|\n",
            "+--------+--------------+--------------+---------+----------+------------+--------------------+------------------+--------------+---------+-----+----------+-----------------+--------------+-------------+-----------+------------+--------------+--------------+---------------+-----------------+-----------------+-------+-------+--------+--------+--------+-------+-------+----------+-------+-------+\n",
            "|       3|5/1/2020 10:46|5/1/2020 11:46| 39.84495|-104.98484|         0.0|At US-36/Exit 217...|           US-87 S|        Denver|    Adams|   CO|     80229|   5/1/2020 10:45|          73.0|       73.0.1|         29|       24.37|          10.0|            NE|            8.0|            0.0.1|    Partly Cloudy|  false|False.1| False.2| False.3| False.4|False.5|False.6|   False.7|False.8|False.9|\n",
            "|       3|5/1/2020 10:46|5/1/2020 11:46| 39.84495|-104.98484|       0.015|At US-36/Exit 217...|           US-87 S|        Denver|    Adams|   CO|     80229|   5/1/2020 10:45|          73.0|           73|         29|       24.37|          10.0|            NE|            8.0|                0|    Partly Cloudy|  false|  FALSE|   FALSE|   FALSE|   FALSE|  FALSE|  FALSE|     FALSE|  FALSE|  FALSE|\n",
            "|       2|5/1/2020 11:11|5/1/2020 11:41| 42.67713|-114.50679|         0.0|At ID-79/Exit 168...|            I-84 W|        Jerome|   Jerome|   ID|     83338|   5/1/2020 10:53|          57.0|           57|         51|       25.99|          10.0|             W|           13.0|                0|             Fair|  false|  FALSE|   FALSE|   FALSE|   FALSE|  FALSE|  FALSE|     FALSE|  FALSE|  FALSE|\n",
            "|       2|5/1/2020 11:23|5/1/2020 12:30| 40.63134|-111.86599|         0.0|At E 6600 S/E Win...|           S 900 E|Salt Lake City|Salt Lake|   UT|84121-2443|   5/1/2020 10:54|          59.0|           59|         69|       25.76|          10.0|            NW|           12.0|                0|       Light Rain|  false|  FALSE|    TRUE|   FALSE|   FALSE|  FALSE|  FALSE|     FALSE|  FALSE|  FALSE|\n",
            "|       2|5/1/2020 11:23|5/1/2020 12:30| 40.63134|-111.86599|         0.0|At Fort Union Blv...|           S 900 E|Salt Lake City|Salt Lake|   UT|84121-2443|   5/1/2020 10:54|          59.0|           59|         69|       25.76|          10.0|            NW|           12.0|                0|       Light Rain|  false|  FALSE|    TRUE|   FALSE|   FALSE|  FALSE|  FALSE|     FALSE|  FALSE|  FALSE|\n",
            "|       2|5/1/2020 12:45|5/1/2020 13:00| 40.63006|-111.86599|         0.0|At Union Park Ave...|           I-215 E|       Midvale|Salt Lake|   UT|     84047|   5/1/2020 12:54|          63.0|           63|         46|       25.74|          10.0|           NNW|            9.0|                0|    Mostly Cloudy|  false|  FALSE|   FALSE|   FALSE|   FALSE|  FALSE|  FALSE|     FALSE|  FALSE|  FALSE|\n",
            "|       1|5/1/2020 11:58|5/1/2020 13:03| 39.55117|-105.00808|         0.0|At CO-470 - Accid...|       Lucent Blvd|     Littleton|  Douglas|   CO|     80129|   5/1/2020 11:53|          80.0|           80|         17|       24.14|          10.0|             N|            8.0|                0|    Partly Cloudy|  false|  FALSE|    TRUE|   FALSE|   FALSE|  FALSE|  FALSE|     FALSE|  FALSE|  FALSE|\n",
            "|       2|5/1/2020 12:04|5/1/2020 15:00| 40.60956| -111.8893|         0.0|At UT-71/S 700 E ...|          E 7800 S|       Midvale|Salt Lake|   UT|84047-2610|   5/1/2020 11:54|          59.0|           59|         60|       25.76|          10.0|           NNW|           12.0|                0|    Mostly Cloudy|  false|  FALSE|   FALSE|   FALSE|   FALSE|  FALSE|  FALSE|     FALSE|  FALSE|  FALSE|\n",
            "|       2|5/1/2020 12:04|5/1/2020 15:00| 40.60956| -111.8893|         0.0|At US-89/State St...|          E 7800 S|       Midvale|Salt Lake|   UT|84047-2610|   5/1/2020 11:54|          59.0|           59|         60|       25.76|          10.0|           NNW|           12.0|                0|    Mostly Cloudy|  false|  FALSE|   FALSE|   FALSE|   FALSE|  FALSE|  FALSE|     FALSE|  FALSE|  FALSE|\n",
            "|       2|5/1/2020 12:41|5/1/2020 13:26| 39.69648|-104.86599|         0.0|At E Iliff Ave - ...| E Mississippi Ave|        Aurora| Arapahoe|   CO|     80012|   5/1/2020 12:58|          80.0|           80|         22|       24.33|          10.0|             E|            8.0|                0|    Mostly Cloudy|  false|  FALSE|    TRUE|   FALSE|   FALSE|  FALSE|  FALSE|     FALSE|  FALSE|  FALSE|\n",
            "+--------+--------------+--------------+---------+----------+------------+--------------------+------------------+--------------+---------+-----+----------+-----------------+--------------+-------------+-----------+------------+--------------+--------------+---------------+-----------------+-----------------+-------+-------+--------+--------+--------+-------+-------+----------+-------+-------+\n",
            "only showing top 10 rows\n",
            "\n"
          ]
        }
      ]
    },
    {
      "cell_type": "markdown",
      "source": [
        "Importing required Libraries"
      ],
      "metadata": {
        "id": "xxhknTp7XGfv"
      }
    },
    {
      "cell_type": "code",
      "execution_count": null,
      "metadata": {
        "id": "OBPnwhJODukI"
      },
      "outputs": [],
      "source": [
        "from pyspark.ml.feature import VectorAssembler\n",
        "from pyspark.ml.classification import RandomForestClassifier\n",
        "from pyspark.ml import Pipeline\n",
        "from pyspark.ml.evaluation import MulticlassClassificationEvaluator\n",
        "from pyspark.ml.classification import DecisionTreeClassifier\n",
        "from pyspark.mllib.evaluation import MulticlassMetrics\n",
        "from sklearn.metrics import classification_report\n",
        "import pandas as pd\n",
        "from pyspark.sql.functions import col\n",
        "from pyspark.ml.regression import LinearRegression\n",
        "from pyspark.ml.evaluation import RegressionEvaluator\n",
        "from pyspark.ml.classification import LogisticRegression\n",
        "import matplotlib.pyplot as plt\n",
        "import seaborn as sns\n",
        "from pyspark.ml.classification import GBTClassifier\n",
        "from pyspark.ml.evaluation import BinaryClassificationEvaluator\n",
        "from pyspark.mllib.evaluation import BinaryClassificationMetrics\n",
        "from sklearn.metrics import roc_curve, auc as sklearn_auc\n",
        "import numpy as np\n",
        "from sklearn.metrics import roc_curve, auc\n",
        "from pyspark.sql.functions import col\n",
        "from pyspark.mllib.evaluation import BinaryClassificationMetrics\n",
        "from pyspark.sql.functions import when\n",
        "from pyspark.ml.tuning import ParamGridBuilder, CrossValidator"
      ]
    },
    {
      "cell_type": "markdown",
      "source": [
        "Replacing Null values with Mean values"
      ],
      "metadata": {
        "id": "vb5DF88SUoff"
      }
    },
    {
      "cell_type": "code",
      "source": [
        "\n",
        "# List of columns to replace null values with the mean\n",
        "columns_to_fillna = [\"Start_Lat\", \"Start_Lng\", \"Temperature(F)\", \"Humidity(%)\", \"Pressure(in)\", \"Wind_Speed(mph)\"]\n",
        "\n",
        "# Replace null values with the mean for the specified columns\n",
        "for column in columns_to_fillna:\n",
        "    mean_value = data.select(col(column)).agg({column: 'mean'}).collect()[0][0]\n",
        "    data = data.na.fill({column: mean_value})\n"
      ],
      "metadata": {
        "id": "ILfUXHttQazZ"
      },
      "execution_count": null,
      "outputs": []
    },
    {
      "cell_type": "markdown",
      "source": [
        "code to replace null values with 0"
      ],
      "metadata": {
        "id": "Ii1yxKFnUud8"
      }
    },
    {
      "cell_type": "code",
      "source": [
        "#from pyspark.sql.functions import when\n",
        "\n",
        "# Assuming 'data' is your PySpark DataFrame\n",
        "#data = data.fillna(0)\n",
        "\n",
        "# Alternatively, you can use the 'when' function to replace specific columns with null values\n",
        "#columns_with_nulls = [\"Start_Lat\", \"Start_Lng\", \"Temperature(F)\", \"Humidity(%)\", \"Pressure(in)\", \"Wind_Speed(mph)\"]\n",
        "\n",
        "#for col in columns_with_nulls:\n",
        "#    data = data.withColumn(col, when(data[col].isNull(), 0).otherwise(data[col]))\n"
      ],
      "metadata": {
        "id": "QhLgjV-_izn-"
      },
      "execution_count": null,
      "outputs": []
    },
    {
      "cell_type": "markdown",
      "source": [
        "Feature Engineering"
      ],
      "metadata": {
        "id": "uDHq4zLbVBSk"
      }
    },
    {
      "cell_type": "code",
      "source": [
        "feature_columns = [\"Start_Lat\", \"Start_Lng\", \"Temperature(F)\", \"Humidity(%)\", \"Pressure(in)\", \"Wind_Speed(mph)\"]\n",
        "assembler = VectorAssembler(inputCols=feature_columns, outputCol=\"features\")\n",
        "data = assembler.transform(data)\n"
      ],
      "metadata": {
        "id": "WN7QCUKuhFex"
      },
      "execution_count": null,
      "outputs": []
    },
    {
      "cell_type": "markdown",
      "source": [
        "Splitting of data into Training and Testing sets"
      ],
      "metadata": {
        "id": "kKEBlFdJT9Te"
      }
    },
    {
      "cell_type": "code",
      "source": [
        "train_data, test_data = data.randomSplit([0.8, 0.2], seed=42)"
      ],
      "metadata": {
        "id": "P83yS9UqhQhj"
      },
      "execution_count": null,
      "outputs": []
    },
    {
      "cell_type": "markdown",
      "source": [
        "**Random Forest Classifier Model**"
      ],
      "metadata": {
        "id": "gY_ifnlhUEDE"
      }
    },
    {
      "cell_type": "code",
      "source": [
        "classifier = RandomForestClassifier(labelCol=\"Severity\", featuresCol=\"features\")\n",
        "pipeline = Pipeline(stages=[classifier])\n",
        "model = pipeline.fit(train_data)\n"
      ],
      "metadata": {
        "id": "WZALbXjLhhhK"
      },
      "execution_count": null,
      "outputs": []
    },
    {
      "cell_type": "code",
      "source": [
        "\n",
        "predictions = model.transform(test_data)\n",
        "\n",
        "evaluator = MulticlassClassificationEvaluator(labelCol=\"Severity\", metricName=\"accuracy\")\n",
        "accuracy = evaluator.evaluate(predictions)\n",
        "\n",
        "print(f\"Accuracy: {accuracy}\")\n",
        "\n",
        "# Convert predictions and labels to Pandas DataFrame for sklearn\n",
        "predictions_pd = predictions.select(\"Severity\", \"prediction\").toPandas()\n",
        "\n",
        "# Get unique labels from the \"Severity\" column in the test data\n",
        "labels = [str(label) for label in predictions.select(\"Severity\").distinct().rdd.flatMap(lambda x: x).collect()]\n",
        "\n",
        "# Extract labels and predictions as NumPy arrays\n",
        "true_labels = predictions_pd[\"Severity\"].values\n",
        "predicted_labels = predictions_pd[\"prediction\"].values\n",
        "\n",
        "# Generate and print the classification report\n",
        "report = classification_report(true_labels, predicted_labels, target_names=[str(i) for i in labels], zero_division=1)\n",
        "print(\"Classification Report for Random Forest:\")\n",
        "print(report)"
      ],
      "metadata": {
        "colab": {
          "base_uri": "https://localhost:8080/"
        },
        "id": "ao1vo9Ufjswl",
        "outputId": "6739634b-e09b-45c7-ae3b-307c619d6cef"
      },
      "execution_count": null,
      "outputs": [
        {
          "output_type": "stream",
          "name": "stdout",
          "text": [
            "Accuracy: 0.7394386733457323\n",
            "Classification Report for Random Forest:\n",
            "              precision    recall  f1-score   support\n",
            "\n",
            "           1       0.79      0.18      0.30      4927\n",
            "           3       0.75      0.98      0.85    111538\n",
            "           4       0.55      0.19      0.28     22818\n",
            "           2       1.00      0.00      0.00     15030\n",
            "\n",
            "    accuracy                           0.74    154313\n",
            "   macro avg       0.77      0.34      0.36    154313\n",
            "weighted avg       0.75      0.74      0.66    154313\n",
            "\n"
          ]
        }
      ]
    },
    {
      "cell_type": "markdown",
      "source": [
        "**Decision Tree Classifier Model**"
      ],
      "metadata": {
        "id": "GLXw-IMATs97"
      }
    },
    {
      "cell_type": "code",
      "source": [
        "\n",
        "# Create a DecisionTreeClassifier\n",
        "classifier = DecisionTreeClassifier(labelCol=\"Severity\", featuresCol=\"features\", maxDepth=5)\n",
        "\n",
        "# Create a pipeline\n",
        "pipeline = Pipeline(stages=[classifier])\n",
        "\n",
        "# Train the model\n",
        "model = pipeline.fit(train_data)\n",
        "\n",
        "# Make predictions\n",
        "predictions = model.transform(test_data)\n",
        "\n",
        "# Evaluate the model\n",
        "evaluator = MulticlassClassificationEvaluator(labelCol=\"Severity\", metricName=\"accuracy\")\n",
        "accuracy = evaluator.evaluate(predictions)\n",
        "\n",
        "print(f\"Accuracy: {accuracy}\")\n",
        "\n",
        "# Convert predictions and labels to Pandas DataFrame for sklearn\n",
        "predictions_pd = predictions.select(\"Severity\", \"prediction\").toPandas()\n",
        "\n",
        "# Extract labels and predictions as NumPy arrays\n",
        "true_labels = predictions_pd[\"Severity\"].values\n",
        "predicted_labels = predictions_pd[\"prediction\"].values\n",
        "\n",
        "# Generate and print the classification report\n",
        "report = classification_report(true_labels, predicted_labels, target_names=[str(i) for i in labels])\n",
        "print(\"Classification Report for Decision Tree:\")\n",
        "print(report)\n"
      ],
      "metadata": {
        "id": "bZ4fYLLYiA_5",
        "colab": {
          "base_uri": "https://localhost:8080/"
        },
        "outputId": "7c5ddb28-a76f-4169-fec4-79de02332e59"
      },
      "execution_count": null,
      "outputs": [
        {
          "output_type": "stream",
          "name": "stdout",
          "text": [
            "Accuracy: 0.7400478248754155\n",
            "Classification Report for Decision Tree:\n",
            "              precision    recall  f1-score   support\n",
            "\n",
            "           1       0.67      0.25      0.36      4927\n",
            "           3       0.75      0.97      0.85    111538\n",
            "           4       0.54      0.19      0.28     22818\n",
            "           2       0.56      0.02      0.05     15030\n",
            "\n",
            "    accuracy                           0.74    154313\n",
            "   macro avg       0.63      0.36      0.38    154313\n",
            "weighted avg       0.70      0.74      0.67    154313\n",
            "\n"
          ]
        }
      ]
    },
    {
      "cell_type": "markdown",
      "source": [
        "**Linear Regression Model** which is not using because of high RMSE."
      ],
      "metadata": {
        "id": "6fJczJAJVH5q"
      }
    },
    {
      "cell_type": "code",
      "source": [
        "\n",
        "feature_columns = [\"Temperature(F)\", \"Humidity(%)\", \"Pressure(in)\", \"Wind_Speed(mph)\"]\n",
        "target_column = \"Severity\"\n",
        "\n",
        "# Vector Assembler to assemble features into a single column\n",
        "vector_assembler = VectorAssembler(inputCols=feature_columns, outputCol=\"my_features\")\n",
        "\n",
        "# Linear Regression model\n",
        "linear_regression = LinearRegression(featuresCol=\"my_features\", labelCol=target_column)\n",
        "\n",
        "# Create a pipeline\n",
        "pipeline = Pipeline(stages=[vector_assembler, linear_regression])\n",
        "\n",
        "# Split data into training and testing sets\n",
        "train_data, test_data = data.randomSplit([0.8, 0.2], seed=42)\n",
        "\n",
        "# Train the model\n",
        "model = pipeline.fit(train_data)\n",
        "\n",
        "# Make predictions on the test set\n",
        "predictions = model.transform(test_data)\n",
        "\n",
        "# Evaluate the model\n",
        "evaluator = RegressionEvaluator(labelCol=target_column, predictionCol=\"prediction\", metricName=\"rmse\")\n",
        "rmse = evaluator.evaluate(predictions)\n",
        "\n",
        "print(f\"Root Mean Squared Error (RMSE): {rmse}\")\n"
      ],
      "metadata": {
        "colab": {
          "base_uri": "https://localhost:8080/"
        },
        "id": "RpMTvfq3BsxD",
        "outputId": "dc2b2915-7e95-487b-cb0c-e77e76bd4e55"
      },
      "execution_count": null,
      "outputs": [
        {
          "output_type": "stream",
          "name": "stdout",
          "text": [
            "Root Mean Squared Error (RMSE): 0.682512243310608\n"
          ]
        }
      ]
    },
    {
      "cell_type": "markdown",
      "source": [
        "**Logistic Regression Model**"
      ],
      "metadata": {
        "id": "J8rC7kVLTAyi"
      }
    },
    {
      "cell_type": "code",
      "source": [
        "\n",
        "# Define the logistic regression model\n",
        "lr = LogisticRegression(labelCol=\"Severity\", featuresCol=\"features\", maxIter=10, regParam=0.3, elasticNetParam=0.8)\n",
        "\n",
        "# Create a pipeline with the logistic regression model\n",
        "pipeline_lr = Pipeline(stages=[lr])\n",
        "\n",
        "# Train the logistic regression model\n",
        "model_lr = pipeline_lr.fit(train_data)\n",
        "\n",
        "# Make predictions on the test data\n",
        "predictions_lr = model_lr.transform(test_data)\n",
        "\n",
        "# Evaluate the model using MulticlassClassificationEvaluator\n",
        "evaluator_lr = MulticlassClassificationEvaluator(labelCol=\"Severity\", metricName=\"accuracy\")\n",
        "accuracy_lr = evaluator_lr.evaluate(predictions_lr)\n",
        "\n",
        "print(f\"Accuracy: {accuracy_lr}\")\n",
        "\n",
        "# Convert predictions and labels to Pandas DataFrame for sklearn\n",
        "predictions_pd = predictions_lr.select(\"Severity\", \"prediction\").toPandas()\n",
        "\n",
        "# Extract labels and predictions as NumPy arrays\n",
        "true_labels = predictions_pd[\"Severity\"].values\n",
        "predicted_labels = predictions_pd[\"prediction\"].values\n",
        "\n",
        "# Generate and print the classification report\n",
        "report = classification_report(true_labels, predicted_labels, target_names=[str(i) for i in labels])\n",
        "print(\"Classification Report for Logistic Regression:\")\n",
        "print(report)"
      ],
      "metadata": {
        "colab": {
          "base_uri": "https://localhost:8080/"
        },
        "id": "N337e4f4RYtC",
        "outputId": "e36b4567-0f07-45f6-e5ba-d83c0373a198"
      },
      "execution_count": null,
      "outputs": [
        {
          "output_type": "stream",
          "name": "stdout",
          "text": [
            "Accuracy: 0.7228036523170439\n",
            "Classification Report for Logistic Regression:\n",
            "              precision    recall  f1-score   support\n",
            "\n",
            "           1       0.00      0.00      0.00      4927\n",
            "           3       0.72      1.00      0.84    111538\n",
            "           4       0.00      0.00      0.00     22818\n",
            "           2       0.00      0.00      0.00     15030\n",
            "\n",
            "    accuracy                           0.72    154313\n",
            "   macro avg       0.18      0.25      0.21    154313\n",
            "weighted avg       0.52      0.72      0.61    154313\n",
            "\n"
          ]
        },
        {
          "output_type": "stream",
          "name": "stderr",
          "text": [
            "/usr/local/lib/python3.10/dist-packages/sklearn/metrics/_classification.py:1344: UndefinedMetricWarning: Precision and F-score are ill-defined and being set to 0.0 in labels with no predicted samples. Use `zero_division` parameter to control this behavior.\n",
            "  _warn_prf(average, modifier, msg_start, len(result))\n",
            "/usr/local/lib/python3.10/dist-packages/sklearn/metrics/_classification.py:1344: UndefinedMetricWarning: Precision and F-score are ill-defined and being set to 0.0 in labels with no predicted samples. Use `zero_division` parameter to control this behavior.\n",
            "  _warn_prf(average, modifier, msg_start, len(result))\n",
            "/usr/local/lib/python3.10/dist-packages/sklearn/metrics/_classification.py:1344: UndefinedMetricWarning: Precision and F-score are ill-defined and being set to 0.0 in labels with no predicted samples. Use `zero_division` parameter to control this behavior.\n",
            "  _warn_prf(average, modifier, msg_start, len(result))\n"
          ]
        }
      ]
    },
    {
      "cell_type": "markdown",
      "source": [
        "Confusion Matrix of Logistic Regression"
      ],
      "metadata": {
        "id": "hVtsGMFcWXqx"
      }
    },
    {
      "cell_type": "code",
      "source": [
        "\n",
        "# Convert predictions and labels to RDD\n",
        "prediction_and_label = predictions_lr.select(\"prediction\", \"Severity\").rdd.map(lambda x: (float(x[0]), float(x[1])))\n",
        "\n",
        "# Instantiate MulticlassMetrics\n",
        "metrics_lr = MulticlassMetrics(prediction_and_label)\n",
        "\n",
        "# Get confusion matrix\n",
        "confusion_mat_lr = metrics_lr.confusionMatrix().toArray()\n",
        "\n",
        "# Convert the confusion matrix to Pandas DataFrame for visualization\n",
        "import pandas as pd\n",
        "confusion_df_lr = pd.DataFrame(confusion_mat_lr, index=range(1, len(confusion_mat_lr)+1), columns=range(1, len(confusion_mat_lr)+1))\n",
        "\n",
        "# Create a heatmap of the confusion matrix\n",
        "plt.figure(figsize=(8, 6))\n",
        "sns.heatmap(confusion_df_lr, annot=True, fmt='g', cmap='Blues', cbar=False)\n",
        "plt.xlabel('Predicted Labels')\n",
        "plt.ylabel('True Labels')\n",
        "plt.title('Confusion Matrix - Logistic Regression')\n",
        "plt.show()\n"
      ],
      "metadata": {
        "colab": {
          "base_uri": "https://localhost:8080/",
          "height": 619
        },
        "id": "LMtuevztS3f-",
        "outputId": "50043100-2463-45c9-c0f4-a431fa521164"
      },
      "execution_count": null,
      "outputs": [
        {
          "output_type": "stream",
          "name": "stderr",
          "text": [
            "/content/spark-3.2.0-bin-hadoop3.2/python/pyspark/sql/context.py:125: FutureWarning: Deprecated in 3.0.0. Use SparkSession.builder.getOrCreate() instead.\n",
            "  warnings.warn(\n"
          ]
        },
        {
          "output_type": "display_data",
          "data": {
            "text/plain": [
              "<Figure size 800x600 with 1 Axes>"
            ],
            "image/png": "[encoded data removed]"
          },
          "metadata": {}
        }
      ]
    },
    {
      "cell_type": "markdown",
      "source": [
        "Checking Class Distribution for getting 0 values for classes 1,2 and 4"
      ],
      "metadata": {
        "id": "brHjkIjiVqQp"
      }
    },
    {
      "cell_type": "code",
      "source": [
        "import seaborn as sns\n",
        "import matplotlib.pyplot as plt\n",
        "\n",
        "# Assuming 'predictions_pd' contains 'Severity', 'prediction', and 'probability' columns\n",
        "predictions_pd = predictions.select(\"Severity\", \"prediction\", \"probability\").toPandas()\n",
        "\n",
        "# Visualize class distribution\n",
        "sns.countplot(x='Severity', data=predictions_pd)\n",
        "plt.title('Class Distribution')\n",
        "plt.show()\n",
        "\n",
        "# Check instances for classes 1, 2, and 4\n",
        "class_instances = predictions_pd[predictions_pd['Severity'].isin([1, 2, 4])]\n",
        "print(class_instances)\n"
      ],
      "metadata": {
        "colab": {
          "base_uri": "https://localhost:8080/",
          "height": 941
        },
        "id": "-l6V1aSddVDA",
        "outputId": "859cc926-8619-4d02-8657-95fe4c7953d7"
      },
      "execution_count": null,
      "outputs": [
        {
          "output_type": "display_data",
          "data": {
            "text/plain": [
              "<Figure size 640x480 with 1 Axes>"
            ],
            "image/png": "[encoded data removed]"
          },
          "metadata": {}
        },
        {
          "output_type": "stream",
          "name": "stdout",
          "text": [
            "        Severity  prediction  \\\n",
            "0              1         2.0   \n",
            "1              1         2.0   \n",
            "2              1         2.0   \n",
            "3              1         2.0   \n",
            "4              1         2.0   \n",
            "...          ...         ...   \n",
            "154308         4         2.0   \n",
            "154309         4         2.0   \n",
            "154310         4         2.0   \n",
            "154311         4         2.0   \n",
            "154312         4         2.0   \n",
            "\n",
            "                                              probability  \n",
            "0       [0.0, 0.035785516629248684, 0.5917663029290451...  \n",
            "1       [0.0, 0.035785516629248684, 0.5917663029290451...  \n",
            "2       [0.0, 0.035785516629248684, 0.5917663029290451...  \n",
            "3       [0.0, 0.035785516629248684, 0.5917663029290451...  \n",
            "4       [0.0, 0.035785516629248684, 0.5917663029290451...  \n",
            "...                                                   ...  \n",
            "154308  [0.0, 0.0001703964557537203, 0.864705214131546...  \n",
            "154309  [0.0, 0.035785516629248684, 0.5917663029290451...  \n",
            "154310  [0.0, 0.035785516629248684, 0.5917663029290451...  \n",
            "154311  [0.0, 0.035785516629248684, 0.5917663029290451...  \n",
            "154312  [0.0, 0.035785516629248684, 0.5917663029290451...  \n",
            "\n",
            "[131495 rows x 3 columns]\n"
          ]
        }
      ]
    },
    {
      "cell_type": "markdown",
      "source": [
        "Converting Boolean values to Numerical values"
      ],
      "metadata": {
        "id": "70oiFHa5VjBL"
      }
    },
    {
      "cell_type": "code",
      "source": [
        "from pyspark.sql.functions import when\n",
        "\n",
        "# Specify the columns to be updated\n",
        "columns_to_update = ['Amenity', 'Bump', 'Crossing', 'Give_Way', 'Junction', 'No_Exit',\n",
        "                      'Railway', 'Roundabout', 'Station', 'Stop']\n",
        "\n",
        "# Map 'FALSE' to 0 and 'TRUE' to 1 for the specified columns\n",
        "for col in columns_to_update:\n",
        "    data = data.withColumn(col, when(data[col] == 'TRUE', 1).otherwise(0))\n"
      ],
      "metadata": {
        "id": "0dnBJeA4qh9a"
      },
      "execution_count": null,
      "outputs": []
    },
    {
      "cell_type": "code",
      "source": [
        "data.show(10)"
      ],
      "metadata": {
        "colab": {
          "base_uri": "https://localhost:8080/"
        },
        "id": "qF_b8LcZsr3o",
        "outputId": "135fefef-ea47-459b-edd2-78ced34e390e"
      },
      "execution_count": null,
      "outputs": [
        {
          "output_type": "stream",
          "name": "stdout",
          "text": [
            "+--------+---------+----------+------------+--------------+-----------+------------+--------------+---------------+-------+----+--------+--------+--------+-------+-------+----------+-------+----+\n",
            "|Severity|Start_Lat| Start_Lng|Distance(mi)|Temperature(F)|Humidity(%)|Pressure(in)|Visibility(mi)|Wind_Speed(mph)|Amenity|Bump|Crossing|Give_Way|Junction|No_Exit|Railway|Roundabout|Station|Stop|\n",
            "+--------+---------+----------+------------+--------------+-----------+------------+--------------+---------------+-------+----+--------+--------+--------+-------+-------+----------+-------+----+\n",
            "|       3| 39.84495|-104.98484|         0.0|          73.0|         29|       24.37|          10.0|            8.0|      0|   0|       0|       0|       0|      0|      0|         0|      0|   0|\n",
            "|       3| 39.84495|-104.98484|       0.015|          73.0|         29|       24.37|          10.0|            8.0|      0|   0|       0|       0|       0|      0|      0|         0|      0|   0|\n",
            "|       2| 42.67713|-114.50679|         0.0|          57.0|         51|       25.99|          10.0|           13.0|      0|   0|       0|       0|       0|      0|      0|         0|      0|   0|\n",
            "|       2| 40.63134|-111.86599|         0.0|          59.0|         69|       25.76|          10.0|           12.0|      0|   0|       1|       0|       0|      0|      0|         0|      0|   0|\n",
            "|       2| 40.63134|-111.86599|         0.0|          59.0|         69|       25.76|          10.0|           12.0|      0|   0|       1|       0|       0|      0|      0|         0|      0|   0|\n",
            "|       2| 40.63006|-111.86599|         0.0|          63.0|         46|       25.74|          10.0|            9.0|      0|   0|       0|       0|       0|      0|      0|         0|      0|   0|\n",
            "|       1| 39.55117|-105.00808|         0.0|          80.0|         17|       24.14|          10.0|            8.0|      0|   0|       1|       0|       0|      0|      0|         0|      0|   0|\n",
            "|       2| 40.60956| -111.8893|         0.0|          59.0|         60|       25.76|          10.0|           12.0|      0|   0|       0|       0|       0|      0|      0|         0|      0|   0|\n",
            "|       2| 40.60956| -111.8893|         0.0|          59.0|         60|       25.76|          10.0|           12.0|      0|   0|       0|       0|       0|      0|      0|         0|      0|   0|\n",
            "|       2| 39.69648|-104.86599|         0.0|          80.0|         22|       24.33|          10.0|            8.0|      0|   0|       1|       0|       0|      0|      0|         0|      0|   0|\n",
            "+--------+---------+----------+------------+--------------+-----------+------------+--------------+---------------+-------+----+--------+--------+--------+-------+-------+----------+-------+----+\n",
            "only showing top 10 rows\n",
            "\n"
          ]
        }
      ]
    },
    {
      "cell_type": "markdown",
      "source": [
        "**GBT Classifier Model**"
      ],
      "metadata": {
        "id": "Bo7P6jyOVfzR"
      }
    },
    {
      "cell_type": "code",
      "source": [
        "\n",
        "feature_columns = [\"Temperature(F)\", \"Humidity(%)\", \"Pressure(in)\", \"Wind_Speed(mph)\"]\n",
        "target_column = \"Severity\"\n",
        "\n",
        "# Convert to binary classification label (1 if Severity is 2, 0 otherwise)\n",
        "binary_data = data.withColumn(\"binary_label\", (data[target_column] == 2).cast(\"double\"))\n",
        "\n",
        "# Vector Assembler to assemble features into a single column\n",
        "vector_assembler = VectorAssembler(inputCols=feature_columns, outputCol=\"my_features\")\n",
        "\n",
        "# GBT classifier for binary classification\n",
        "gbt_classifier = GBTClassifier(featuresCol=\"my_features\", labelCol=\"binary_label\", maxDepth=5, maxIter=20)\n",
        "\n",
        "# Create a pipeline\n",
        "pipeline = Pipeline(stages=[vector_assembler, gbt_classifier])\n",
        "\n",
        "# Split data into training and testing sets\n",
        "train_data, test_data = binary_data.randomSplit([0.8, 0.2], seed=42)\n",
        "\n",
        "# Train the model\n",
        "model_gbt = pipeline.fit(train_data)\n",
        "\n",
        "# Make predictions on the test set\n",
        "predictions = model_gbt.transform(test_data)\n",
        "\n",
        "# Evaluate the model\n",
        "evaluator = BinaryClassificationEvaluator(labelCol=\"binary_label\", rawPredictionCol=\"rawPrediction\", metricName=\"areaUnderROC\")\n",
        "auc = evaluator.evaluate(predictions)\n",
        "\n",
        "print(f\"Area Under ROC (AUC): {auc}\")\n",
        "\n",
        "# Print the confusion matrix\n",
        "confusion_matrix = predictions.select(\"binary_label\", \"prediction\").groupBy(\"binary_label\", \"prediction\").count()\n",
        "confusion_matrix.show()\n"
      ],
      "metadata": {
        "colab": {
          "base_uri": "https://localhost:8080/"
        },
        "id": "zHjWZfkEVfvS",
        "outputId": "7404f7ab-27c2-42b2-b82c-3a974a7be8e0"
      },
      "execution_count": null,
      "outputs": [
        {
          "output_type": "stream",
          "name": "stdout",
          "text": [
            "Area Under ROC (AUC): 0.6575679884290164\n",
            "+------------+----------+------+\n",
            "|binary_label|prediction| count|\n",
            "+------------+----------+------+\n",
            "|         1.0|       1.0|110400|\n",
            "|         0.0|       1.0| 41271|\n",
            "|         1.0|       0.0|  1138|\n",
            "|         0.0|       0.0|  1504|\n",
            "+------------+----------+------+\n",
            "\n"
          ]
        }
      ]
    },
    {
      "cell_type": "code",
      "source": [
        "\n",
        "# Evaluate the model\n",
        "evaluator = BinaryClassificationEvaluator(labelCol=\"binary_label\", rawPredictionCol=\"rawPrediction\", metricName=\"areaUnderROC\")\n",
        "auc_value = evaluator.evaluate(predictions)\n",
        "\n",
        "print(f\"Area Under ROC (AUC): {auc_value}\")\n",
        "\n",
        "# Convert to Pandas DataFrame\n",
        "predictions_pd = predictions.toPandas()\n",
        "\n",
        "# Get the fpr, tpr, and thresholds\n",
        "fpr, tpr, thresholds = roc_curve(predictions_pd['binary_label'], predictions_pd['probability'].apply(lambda x: x[1]))\n",
        "\n",
        "# Compute AUC using scikit-learn's auc function\n",
        "roc_auc = sklearn_auc(fpr, tpr)\n",
        "\n",
        "# Plot ROC curve\n",
        "plt.figure(figsize=(8, 6))\n",
        "plt.plot(fpr, tpr, color='darkorange', lw=2, label=f'AUC = {roc_auc:.2f}')\n",
        "plt.plot([0, 1], [0, 1], color='navy', lw=2, linestyle='--')\n",
        "plt.xlim([0.0, 1.0])\n",
        "plt.ylim([0.0, 1.05])\n",
        "plt.xlabel('False Positive Rate')\n",
        "plt.ylabel('True Positive Rate')\n",
        "plt.title('Receiver Operating Characteristic (ROC) Curve')\n",
        "plt.legend(loc=\"lower right\")\n",
        "plt.show()\n"
      ],
      "metadata": {
        "colab": {
          "base_uri": "https://localhost:8080/",
          "height": 581
        },
        "id": "Oh2Q5KLiF0_w",
        "outputId": "0b1fe7b7-0d4e-43d2-86a8-7b5328f8d243"
      },
      "execution_count": null,
      "outputs": [
        {
          "output_type": "stream",
          "name": "stdout",
          "text": [
            "Area Under ROC (AUC): 0.6575705785362703\n"
          ]
        },
        {
          "output_type": "display_data",
          "data": {
            "text/plain": [
              "<Figure size 800x600 with 1 Axes>"
            ],
            "image/png": "[encoded data removed]"
          },
          "metadata": {}
        }
      ]
    },
    {
      "cell_type": "markdown",
      "source": [
        "**GBT Classifier Model** with Cross Validation technique for increasing the accuracy."
      ],
      "metadata": {
        "id": "HZ47BHlQRz6X"
      }
    },
    {
      "cell_type": "code",
      "source": [
        "\n",
        "# Let's create a new binary label column 'label'\n",
        "train_data_binary = train_data.withColumn(\"label\", when(train_data[\"Severity\"] == 4, 1).otherwise(0))\n",
        "test_data_binary = test_data.withColumn(\"label\", when(test_data[\"Severity\"] == 4, 1).otherwise(0))\n",
        "\n",
        "# Feature columns for training\n",
        "feature_columns = [\"Temperature(F)\", \"Humidity(%)\", \"Pressure(in)\", \"Wind_Speed(mph)\"]\n",
        "\n",
        "# Vector Assembler to assemble features into a single column\n",
        "vector_assembler = VectorAssembler(inputCols=feature_columns, outputCol=\"features\")\n",
        "\n",
        "# GBTClassifier\n",
        "gbt = GBTClassifier(featuresCol=\"features\", labelCol=\"label\", maxIter=10)\n",
        "\n",
        "# Create a pipeline\n",
        "pipeline = Pipeline(stages=[vector_assembler, gbt])\n",
        "\n",
        "# Create ParamGrid for Cross Validation\n",
        "param_grid = ParamGridBuilder().build()\n",
        "\n",
        "# Multiclass Classification evaluator\n",
        "evaluator = MulticlassClassificationEvaluator(labelCol=\"label\", metricName=\"accuracy\")\n",
        "\n",
        "# CrossValidator\n",
        "crossval = CrossValidator(estimator=pipeline,\n",
        "                          estimatorParamMaps=param_grid,\n",
        "                          evaluator=evaluator,\n",
        "                          numFolds=5)\n",
        "\n",
        "# Run cross-validation, and choose the best set of parameters\n",
        "cv_model = crossval.fit(train_data_binary)\n",
        "\n",
        "# Make predictions on the test set\n",
        "predictions = cv_model.transform(test_data_binary)\n",
        "\n",
        "# Evaluate the model\n",
        "accuracy = evaluator.evaluate(predictions)\n",
        "print(f\"Accuracy: {accuracy}\")\n",
        "\n",
        "# Extract labels and predictions as NumPy arrays\n",
        "true_labels = predictions.select(\"label\").rdd.flatMap(lambda x: x).collect()\n",
        "predicted_labels = predictions.select(\"prediction\").rdd.flatMap(lambda x: x).collect()\n",
        "\n",
        "# Generate and print the classification report\n",
        "report = classification_report(true_labels, predicted_labels, target_names=['Class 0', 'Class 1'])\n",
        "print(\"Classification Report:\")\n",
        "print(report)"
      ],
      "metadata": {
        "colab": {
          "base_uri": "https://localhost:8080/"
        },
        "id": "ZIY1cmBURALn",
        "outputId": "f3a421b2-8cf6-46c6-ce08-a2045acb9bd5"
      },
      "execution_count": null,
      "outputs": [
        {
          "output_type": "stream",
          "name": "stdout",
          "text": [
            "Accuracy: 0.9003781399117674\n",
            "Classification Report:\n",
            "              precision    recall  f1-score   support\n",
            "\n",
            "     Class 0       0.90      1.00      0.95     20000\n",
            "     Class 1       1.00      0.00      0.00      2214\n",
            "\n",
            "    accuracy                           0.90     22214\n",
            "   macro avg       0.95      0.50      0.47     22214\n",
            "weighted avg       0.91      0.90      0.85     22214\n",
            "\n"
          ]
        }
      ]
    },
    {
      "cell_type": "code",
      "source": [
        "\n",
        "# Assuming 'prediction' column contains rawPrediction\n",
        "predictions = cv_model.transform(test_data_binary).select(col(\"label\").cast(\"double\"), col(\"probability\"))\n",
        "\n",
        "# Convert to Pandas DataFrame\n",
        "predictions_pd = predictions.toPandas()\n",
        "\n",
        "# Get the fpr, tpr, and thresholds\n",
        "fpr, tpr, thresholds = roc_curve(predictions_pd['label'], predictions_pd['probability'].apply(lambda x: x[1]))\n",
        "\n",
        "# Compute AUC\n",
        "auc_value = auc(fpr, tpr)\n",
        "\n",
        "# Plot ROC curve\n",
        "plt.figure(figsize=(8, 6))\n",
        "plt.plot(fpr, tpr, color='darkorange', lw=2, label=f'AUC = {auc_value:.2f}')\n",
        "plt.plot([0, 1], [0, 1], color='navy', lw=2, linestyle='--')\n",
        "plt.xlim([0.0, 1.0])\n",
        "plt.ylim([0.0, 1.05])\n",
        "plt.xlabel('False Positive Rate')\n",
        "plt.ylabel('True Positive Rate')\n",
        "plt.title('Receiver Operating Characteristic (ROC) Curve')\n",
        "plt.legend(loc=\"lower right\")\n",
        "plt.show()\n"
      ],
      "metadata": {
        "colab": {
          "base_uri": "https://localhost:8080/",
          "height": 564
        },
        "id": "_QzS96VkNT7F",
        "outputId": "3bd67a36-5b23-4223-9ad7-10518d6fa866"
      },
      "execution_count": null,
      "outputs": [
        {
          "output_type": "display_data",
          "data": {
            "text/plain": [
              "<Figure size 800x600 with 1 Axes>"
            ],
            "image/png": "[encoded data removed]"
          },
          "metadata": {}
        }
      ]
    }
  ],
  "metadata": {
    "colab": {
      "provenance": []
    },
    "kernelspec": {
      "display_name": "Python 3",
      "name": "python3"
    },
    "language_info": {
      "name": "python"
    }
  },
  "nbformat": 4,
  "nbformat_minor": 0
}